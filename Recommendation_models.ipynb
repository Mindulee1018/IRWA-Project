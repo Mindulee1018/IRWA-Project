{
 "cells": [
  {
   "cell_type": "markdown",
   "id": "6077b105-9150-474f-b105-f81048c98479",
   "metadata": {},
   "source": [
    "## Rating base recommendation system"
   ]
  },
  {
   "cell_type": "code",
   "execution_count": 17,
   "id": "d4c112a1-a0fc-4bd7-a065-0facdebbbac3",
   "metadata": {},
   "outputs": [],
   "source": [
    "import pandas as pd\n",
    "import numpy as np\n",
    "import matplotlib.pyplot as plt\n",
    "import seaborn as sns\n",
    "\n",
    "from sklearn.metrics.pairwise import cosine_similarity\n",
    "from sklearn.feature_extraction.text import TfidfVectorizer\n",
    "\n",
    "import os\n",
    "from scipy.sparse import coo_matrix"
   ]
  },
  {
   "cell_type": "code",
   "execution_count": 19,
   "id": "01c827c8-6cf1-4e42-b38f-0adf223b606b",
   "metadata": {},
   "outputs": [
    {
     "data": {
      "text/plain": [
       "Index(['product_id', 'product_name', 'category', 'discounted_price',\n",
       "       'actual_price', 'rating', 'rating_count', 'user_id', 'product_link',\n",
       "       'about_product'],\n",
       "      dtype='object')"
      ]
     },
     "execution_count": 19,
     "metadata": {},
     "output_type": "execute_result"
    }
   ],
   "source": [
    "#read dataset\n",
    "df = pd.read_csv(r'cleaned_train_data.csv')\n",
    "df.columns"
   ]
  },
  {
   "cell_type": "code",
   "execution_count": 21,
   "id": "dd2241b4-8675-4b4b-882a-ed043ba82682",
   "metadata": {},
   "outputs": [],
   "source": [
    "average_ratings = df.groupby(['product_id','product_name','actual_price','category','about_product','product_link','rating_count'])['rating'].mean().reset_index()"
   ]
  },
  {
   "cell_type": "code",
   "execution_count": 23,
   "id": "35957012-739e-4a85-be56-044a84bcb722",
   "metadata": {},
   "outputs": [],
   "source": [
    "top_rated_items = average_ratings.sort_values(by='rating', ascending=False)\n",
    "\n",
    "rating_base_recommendation = top_rated_items.head(10)"
   ]
  },
  {
   "cell_type": "code",
   "execution_count": 25,
   "id": "6cffbd55-f397-4624-8222-6e2ce1ecbbd4",
   "metadata": {},
   "outputs": [],
   "source": [
    "rating_base_recommendation.loc[:,'rating'] = rating_base_recommendation['rating'].astype(int)\n",
    "rating_base_recommendation.loc[:,'rating_count'] = rating_base_recommendation['rating_count'].astype(int)"
   ]
  },
  {
   "cell_type": "code",
   "execution_count": 27,
   "id": "65c0f7ac-6237-409b-b917-7d7764ebcf73",
   "metadata": {},
   "outputs": [
    {
     "name": "stdout",
     "output_type": "stream",
     "text": [
      "Rating Base Recommendation System: (Trending Products)\n"
     ]
    },
    {
     "name": "stderr",
     "output_type": "stream",
     "text": [
      "C:\\Users\\Mindulee Fonseka\\AppData\\Local\\Temp\\ipykernel_38496\\1993256587.py:2: SettingWithCopyWarning: \n",
      "A value is trying to be set on a copy of a slice from a DataFrame.\n",
      "Try using .loc[row_indexer,col_indexer] = value instead\n",
      "\n",
      "See the caveats in the documentation: https://pandas.pydata.org/pandas-docs/stable/user_guide/indexing.html#returning-a-view-versus-a-copy\n",
      "  rating_base_recommendation[['product_id','product_name','actual_price','category','about_product','product_link','rating_count']] = rating_base_recommendation[['product_id','product_name','actual_price','category','about_product','product_link','rating_count']]\n"
     ]
    },
    {
     "data": {
      "text/html": [
       "<div>\n",
       "<style scoped>\n",
       "    .dataframe tbody tr th:only-of-type {\n",
       "        vertical-align: middle;\n",
       "    }\n",
       "\n",
       "    .dataframe tbody tr th {\n",
       "        vertical-align: top;\n",
       "    }\n",
       "\n",
       "    .dataframe thead th {\n",
       "        text-align: right;\n",
       "    }\n",
       "</style>\n",
       "<table border=\"1\" class=\"dataframe\">\n",
       "  <thead>\n",
       "    <tr style=\"text-align: right;\">\n",
       "      <th></th>\n",
       "      <th>product_id</th>\n",
       "      <th>product_name</th>\n",
       "      <th>actual_price</th>\n",
       "      <th>category</th>\n",
       "      <th>about_product</th>\n",
       "      <th>product_link</th>\n",
       "      <th>rating_count</th>\n",
       "      <th>rating</th>\n",
       "    </tr>\n",
       "  </thead>\n",
       "  <tbody>\n",
       "    <tr>\n",
       "      <th>1342</th>\n",
       "      <td>1342</td>\n",
       "      <td>Syncwire LTG to USB Cable for Fast Charging Co...</td>\n",
       "      <td>1999.0</td>\n",
       "      <td>Computers&amp;Accessories|Accessories&amp;Peripherals|...</td>\n",
       "      <td>This sturdy and durable cable made of tpe and ...</td>\n",
       "      <td>https://www.amazon.in/Syncwire-Cable-Charging-...</td>\n",
       "      <td>5.0</td>\n",
       "      <td>5.0</td>\n",
       "    </tr>\n",
       "    <tr>\n",
       "      <th>1349</th>\n",
       "      <td>1349</td>\n",
       "      <td>REDTECH USB-C to Lightning Cable 3.3FT, [Apple...</td>\n",
       "      <td>999.0</td>\n",
       "      <td>Computers&amp;Accessories|Accessories&amp;Peripherals|...</td>\n",
       "      <td>💎[The Fastest Charge] - This iPhone USB C cabl...</td>\n",
       "      <td>https://www.amazon.in/REDTECH-Lightning-Certif...</td>\n",
       "      <td>0.0</td>\n",
       "      <td>5.0</td>\n",
       "    </tr>\n",
       "    <tr>\n",
       "      <th>1121</th>\n",
       "      <td>1121</td>\n",
       "      <td>Amazon Basics Wireless Mouse | 2.4 GHz Connect...</td>\n",
       "      <td>1000.0</td>\n",
       "      <td>Computers&amp;Accessories|Accessories&amp;Peripherals|...</td>\n",
       "      <td>Reliable wireless connection up to 10m|Advance...</td>\n",
       "      <td>https://www.amazon.in/Wireless-Connection-Batt...</td>\n",
       "      <td>23.0</td>\n",
       "      <td>5.0</td>\n",
       "    </tr>\n",
       "    <tr>\n",
       "      <th>1350</th>\n",
       "      <td>1350</td>\n",
       "      <td>Swiffer Instant Electric Water Heater Faucet T...</td>\n",
       "      <td>1999.0</td>\n",
       "      <td>Home&amp;Kitchen|Heating,Cooling&amp;AirQuality|WaterH...</td>\n",
       "      <td>✔Quick Electric Hot Water Tap Heating tube: hi...</td>\n",
       "      <td>https://www.amazon.in/Swiffer-Instant-Electric...</td>\n",
       "      <td>53803.0</td>\n",
       "      <td>4.0</td>\n",
       "    </tr>\n",
       "    <tr>\n",
       "      <th>1205</th>\n",
       "      <td>1205</td>\n",
       "      <td>Instant Pot Air Fryer, Vortex 2QT, Touch Contr...</td>\n",
       "      <td>20049.0</td>\n",
       "      <td>Home&amp;Kitchen|Kitchen&amp;HomeAppliances|SmallKitch...</td>\n",
       "      <td>VOLTAGE (230 Volts): Instant Vortex Air Fryer ...</td>\n",
       "      <td>https://www.amazon.in/Instant-Vortex-2QT-EvenC...</td>\n",
       "      <td>3964.0</td>\n",
       "      <td>4.0</td>\n",
       "    </tr>\n",
       "    <tr>\n",
       "      <th>1348</th>\n",
       "      <td>1348</td>\n",
       "      <td>Oratech Coffee Frother electric, milk frother ...</td>\n",
       "      <td>499.0</td>\n",
       "      <td>Home&amp;Kitchen|Kitchen&amp;HomeAppliances|SmallKitch...</td>\n",
       "      <td>-Make delicious milk foam creamer for your dri...</td>\n",
       "      <td>https://www.amazon.in/Oratech-electric-cappucc...</td>\n",
       "      <td>28.0</td>\n",
       "      <td>4.0</td>\n",
       "    </tr>\n",
       "    <tr>\n",
       "      <th>1343</th>\n",
       "      <td>1343</td>\n",
       "      <td>Campfire Spring Chef Prolix Instant Portable W...</td>\n",
       "      <td>3500.0</td>\n",
       "      <td>Home&amp;Kitchen|Heating,Cooling&amp;AirQuality|WaterH...</td>\n",
       "      <td>Prolix Auto cut off feature: It is available w...</td>\n",
       "      <td>https://www.amazon.in/Spring-Chef-Stainless-Re...</td>\n",
       "      <td>2591.0</td>\n",
       "      <td>4.0</td>\n",
       "    </tr>\n",
       "    <tr>\n",
       "      <th>1145</th>\n",
       "      <td>1145</td>\n",
       "      <td>Spigen EZ Fit Tempered Glass Screen Protector ...</td>\n",
       "      <td>2899.0</td>\n",
       "      <td>Electronics|Mobiles&amp;Accessories|MobileAccessor...</td>\n",
       "      <td>Compatibility ; Glass Screen Protector Compati...</td>\n",
       "      <td>https://www.amazon.in/Spigen-Tempered-Screen-P...</td>\n",
       "      <td>7779.0</td>\n",
       "      <td>4.0</td>\n",
       "    </tr>\n",
       "    <tr>\n",
       "      <th>1078</th>\n",
       "      <td>1078</td>\n",
       "      <td>Sony Bravia 164 cm (65 inches) 4K Ultra HD Sma...</td>\n",
       "      <td>139900.0</td>\n",
       "      <td>Electronics|HomeTheater,TV&amp;Video|Televisions|S...</td>\n",
       "      <td>Resolution: 4K Ultra HD (3840 x 2160) | Refres...</td>\n",
       "      <td>https://www.amazon.in/Sony-Bravia-inches-Googl...</td>\n",
       "      <td>5935.0</td>\n",
       "      <td>4.0</td>\n",
       "    </tr>\n",
       "    <tr>\n",
       "      <th>1318</th>\n",
       "      <td>1318</td>\n",
       "      <td>Zuvexa USB Rechargeable Electric Foam Maker - ...</td>\n",
       "      <td>1299.0</td>\n",
       "      <td>Home&amp;Kitchen|Kitchen&amp;HomeAppliances|SmallKitch...</td>\n",
       "      <td>The food taste stainless steel whisking head i...</td>\n",
       "      <td>https://www.amazon.in/Zuvexa-Rechargeable-Elec...</td>\n",
       "      <td>54.0</td>\n",
       "      <td>4.0</td>\n",
       "    </tr>\n",
       "  </tbody>\n",
       "</table>\n",
       "</div>"
      ],
      "text/plain": [
       "      product_id                                       product_name  \\\n",
       "1342        1342  Syncwire LTG to USB Cable for Fast Charging Co...   \n",
       "1349        1349  REDTECH USB-C to Lightning Cable 3.3FT, [Apple...   \n",
       "1121        1121  Amazon Basics Wireless Mouse | 2.4 GHz Connect...   \n",
       "1350        1350  Swiffer Instant Electric Water Heater Faucet T...   \n",
       "1205        1205  Instant Pot Air Fryer, Vortex 2QT, Touch Contr...   \n",
       "1348        1348  Oratech Coffee Frother electric, milk frother ...   \n",
       "1343        1343  Campfire Spring Chef Prolix Instant Portable W...   \n",
       "1145        1145  Spigen EZ Fit Tempered Glass Screen Protector ...   \n",
       "1078        1078  Sony Bravia 164 cm (65 inches) 4K Ultra HD Sma...   \n",
       "1318        1318  Zuvexa USB Rechargeable Electric Foam Maker - ...   \n",
       "\n",
       "      actual_price                                           category  \\\n",
       "1342        1999.0  Computers&Accessories|Accessories&Peripherals|...   \n",
       "1349         999.0  Computers&Accessories|Accessories&Peripherals|...   \n",
       "1121        1000.0  Computers&Accessories|Accessories&Peripherals|...   \n",
       "1350        1999.0  Home&Kitchen|Heating,Cooling&AirQuality|WaterH...   \n",
       "1205       20049.0  Home&Kitchen|Kitchen&HomeAppliances|SmallKitch...   \n",
       "1348         499.0  Home&Kitchen|Kitchen&HomeAppliances|SmallKitch...   \n",
       "1343        3500.0  Home&Kitchen|Heating,Cooling&AirQuality|WaterH...   \n",
       "1145        2899.0  Electronics|Mobiles&Accessories|MobileAccessor...   \n",
       "1078      139900.0  Electronics|HomeTheater,TV&Video|Televisions|S...   \n",
       "1318        1299.0  Home&Kitchen|Kitchen&HomeAppliances|SmallKitch...   \n",
       "\n",
       "                                          about_product  \\\n",
       "1342  This sturdy and durable cable made of tpe and ...   \n",
       "1349  💎[The Fastest Charge] - This iPhone USB C cabl...   \n",
       "1121  Reliable wireless connection up to 10m|Advance...   \n",
       "1350  ✔Quick Electric Hot Water Tap Heating tube: hi...   \n",
       "1205  VOLTAGE (230 Volts): Instant Vortex Air Fryer ...   \n",
       "1348  -Make delicious milk foam creamer for your dri...   \n",
       "1343  Prolix Auto cut off feature: It is available w...   \n",
       "1145  Compatibility ; Glass Screen Protector Compati...   \n",
       "1078  Resolution: 4K Ultra HD (3840 x 2160) | Refres...   \n",
       "1318  The food taste stainless steel whisking head i...   \n",
       "\n",
       "                                           product_link  rating_count  rating  \n",
       "1342  https://www.amazon.in/Syncwire-Cable-Charging-...           5.0     5.0  \n",
       "1349  https://www.amazon.in/REDTECH-Lightning-Certif...           0.0     5.0  \n",
       "1121  https://www.amazon.in/Wireless-Connection-Batt...          23.0     5.0  \n",
       "1350  https://www.amazon.in/Swiffer-Instant-Electric...       53803.0     4.0  \n",
       "1205  https://www.amazon.in/Instant-Vortex-2QT-EvenC...        3964.0     4.0  \n",
       "1348  https://www.amazon.in/Oratech-electric-cappucc...          28.0     4.0  \n",
       "1343  https://www.amazon.in/Spring-Chef-Stainless-Re...        2591.0     4.0  \n",
       "1145  https://www.amazon.in/Spigen-Tempered-Screen-P...        7779.0     4.0  \n",
       "1078  https://www.amazon.in/Sony-Bravia-inches-Googl...        5935.0     4.0  \n",
       "1318  https://www.amazon.in/Zuvexa-Rechargeable-Elec...          54.0     4.0  "
      ]
     },
     "execution_count": 27,
     "metadata": {},
     "output_type": "execute_result"
    }
   ],
   "source": [
    "print(\"Rating Base Recommendation System: (Trending Products)\")\n",
    "rating_base_recommendation[['product_id','product_name','actual_price','category','about_product','product_link','rating_count']] = rating_base_recommendation[['product_id','product_name','actual_price','category','about_product','product_link','rating_count']]\n",
    "rating_base_recommendation"
   ]
  },
  {
   "cell_type": "code",
   "execution_count": 29,
   "id": "a7383e8e-cb76-47fe-8ceb-e6c3522f3ba7",
   "metadata": {},
   "outputs": [],
   "source": [
    "# Specify the file path where you want to save the cleaned data\n",
    "output_file_path = 'top_rated_products.csv'\n",
    "\n",
    "# Save the cleaned DataFrame to a CSV file\n",
    "rating_base_recommendation.to_csv(output_file_path, index=False)"
   ]
  },
  {
   "cell_type": "code",
   "execution_count": null,
   "id": "b4a3c0ec-d999-4c2e-8757-afb630ef63ea",
   "metadata": {},
   "outputs": [],
   "source": []
  }
 ],
 "metadata": {
  "kernelspec": {
   "display_name": "Python 3 (ipykernel)",
   "language": "python",
   "name": "python3"
  },
  "language_info": {
   "codemirror_mode": {
    "name": "ipython",
    "version": 3
   },
   "file_extension": ".py",
   "mimetype": "text/x-python",
   "name": "python",
   "nbconvert_exporter": "python",
   "pygments_lexer": "ipython3",
   "version": "3.12.4"
  }
 },
 "nbformat": 4,
 "nbformat_minor": 5
}
