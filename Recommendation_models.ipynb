{
 "cells": [
  {
   "cell_type": "markdown",
   "id": "6077b105-9150-474f-b105-f81048c98479",
   "metadata": {},
   "source": [
    "## Rating base recommendation system"
   ]
  },
  {
   "cell_type": "code",
   "execution_count": 102,
   "id": "d4c112a1-a0fc-4bd7-a065-0facdebbbac3",
   "metadata": {},
   "outputs": [
    {
     "name": "stderr",
     "output_type": "stream",
     "text": [
      "[nltk_data] Downloading package punkt to\n",
      "[nltk_data]     C:\\Users\\DELL\\AppData\\Roaming\\nltk_data...\n",
      "[nltk_data]   Package punkt is already up-to-date!\n",
      "[nltk_data] Downloading package stopwords to\n",
      "[nltk_data]     C:\\Users\\DELL\\AppData\\Roaming\\nltk_data...\n",
      "[nltk_data]   Package stopwords is already up-to-date!\n"
     ]
    }
   ],
   "source": [
    "import pandas as pd\n",
    "import numpy as np\n",
    "import matplotlib.pyplot as plt\n",
    "import seaborn as sns\n",
    "\n",
    "from sklearn.metrics.pairwise import cosine_similarity\n",
    "from sklearn.feature_extraction.text import TfidfVectorizer\n",
    "\n",
    "import os\n",
    "from scipy.sparse import coo_matrix\n",
    "\n",
    "import nltk\n",
    "from nltk.corpus import stopwords\n",
    "from nltk.tokenize import word_tokenize\n",
    "from nltk.stem.porter import PorterStemmer\n",
    "from sklearn.feature_extraction.text import CountVectorizer\n",
    "from tensorflow.keras.preprocessing.text import Tokenizer\n",
    "from tensorflow.keras.preprocessing.sequence import pad_sequences\n",
    "nltk.download(\"punkt\")\n",
    "nltk.download(\"stopwords\")\n",
    "from sklearn.feature_extraction.text import TfidfVectorizer"
   ]
  },
  {
   "cell_type": "code",
   "execution_count": 104,
   "id": "01c827c8-6cf1-4e42-b38f-0adf223b606b",
   "metadata": {},
   "outputs": [
    {
     "data": {
      "text/plain": [
       "Index(['product_id', 'product_name', 'category', 'discounted_price',\n",
       "       'actual_price', 'rating', 'rating_count', 'about_product'],\n",
       "      dtype='object')"
      ]
     },
     "execution_count": 104,
     "metadata": {},
     "output_type": "execute_result"
    }
   ],
   "source": [
    "#read dataset\n",
    "df = pd.read_csv(r'C:\\Users\\DELL\\Desktop\\cleaned_train_data.csv')\n",
    "df.columns"
   ]
  },
  {
   "cell_type": "code",
   "execution_count": 106,
   "id": "dd2241b4-8675-4b4b-882a-ed043ba82682",
   "metadata": {},
   "outputs": [],
   "source": [
    "average_ratings = df.groupby(['product_name','rating_count','category'])['rating'].mean().reset_index()"
   ]
  },
  {
   "cell_type": "code",
   "execution_count": 108,
   "id": "35957012-739e-4a85-be56-044a84bcb722",
   "metadata": {},
   "outputs": [],
   "source": [
    "top_rated_items = average_ratings.sort_values(by='rating', ascending=False)\n",
    "\n",
    "rating_base_recommendation = top_rated_items.head(10)"
   ]
  },
  {
   "cell_type": "code",
   "execution_count": 110,
   "id": "6cffbd55-f397-4624-8222-6e2ce1ecbbd4",
   "metadata": {},
   "outputs": [],
   "source": [
    "rating_base_recommendation.loc[:,'rating'] = rating_base_recommendation['rating'].astype(int)\n",
    "rating_base_recommendation.loc[:,'rating_count'] = rating_base_recommendation['rating_count'].astype(int)"
   ]
  },
  {
   "cell_type": "code",
   "execution_count": 114,
   "id": "65c0f7ac-6237-409b-b917-7d7764ebcf73",
   "metadata": {},
   "outputs": [
    {
     "name": "stdout",
     "output_type": "stream",
     "text": [
      "Rating Base Recommendation System: (Trending Products)\n"
     ]
    },
    {
     "data": {
      "text/html": [
       "<div>\n",
       "<style scoped>\n",
       "    .dataframe tbody tr th:only-of-type {\n",
       "        vertical-align: middle;\n",
       "    }\n",
       "\n",
       "    .dataframe tbody tr th {\n",
       "        vertical-align: top;\n",
       "    }\n",
       "\n",
       "    .dataframe thead th {\n",
       "        text-align: right;\n",
       "    }\n",
       "</style>\n",
       "<table border=\"1\" class=\"dataframe\">\n",
       "  <thead>\n",
       "    <tr style=\"text-align: right;\">\n",
       "      <th></th>\n",
       "      <th>product_name</th>\n",
       "      <th>rating_count</th>\n",
       "      <th>category</th>\n",
       "      <th>rating</th>\n",
       "    </tr>\n",
       "  </thead>\n",
       "  <tbody>\n",
       "    <tr>\n",
       "      <th>880</th>\n",
       "      <td>REDTECH USB-C to Lightning Cable 3.3FT, [Apple...</td>\n",
       "      <td>0.0</td>\n",
       "      <td>Computers&amp;Accessories|Accessories&amp;Peripherals|...</td>\n",
       "      <td>5.0</td>\n",
       "    </tr>\n",
       "    <tr>\n",
       "      <th>1055</th>\n",
       "      <td>Syncwire LTG to USB Cable for Fast Charging Co...</td>\n",
       "      <td>5.0</td>\n",
       "      <td>Computers&amp;Accessories|Accessories&amp;Peripherals|...</td>\n",
       "      <td>5.0</td>\n",
       "    </tr>\n",
       "    <tr>\n",
       "      <th>85</th>\n",
       "      <td>Amazon Basics Wireless Mouse | 2.4 GHz Connect...</td>\n",
       "      <td>23.0</td>\n",
       "      <td>Computers&amp;Accessories|Accessories&amp;Peripherals|...</td>\n",
       "      <td>5.0</td>\n",
       "    </tr>\n",
       "    <tr>\n",
       "      <th>751</th>\n",
       "      <td>Oratech Coffee Frother electric, milk frother ...</td>\n",
       "      <td>28.0</td>\n",
       "      <td>Home&amp;Kitchen|Kitchen&amp;HomeAppliances|SmallKitch...</td>\n",
       "      <td>4.0</td>\n",
       "    </tr>\n",
       "    <tr>\n",
       "      <th>1053</th>\n",
       "      <td>Swiffer Instant Electric Water Heater Faucet T...</td>\n",
       "      <td>53803.0</td>\n",
       "      <td>Home&amp;Kitchen|Heating,Cooling&amp;AirQuality|WaterH...</td>\n",
       "      <td>4.0</td>\n",
       "    </tr>\n",
       "    <tr>\n",
       "      <th>511</th>\n",
       "      <td>Instant Pot Air Fryer, Vortex 2QT, Touch Contr...</td>\n",
       "      <td>3964.0</td>\n",
       "      <td>Home&amp;Kitchen|Kitchen&amp;HomeAppliances|SmallKitch...</td>\n",
       "      <td>4.0</td>\n",
       "    </tr>\n",
       "    <tr>\n",
       "      <th>368</th>\n",
       "      <td>FIGMENT Handheld Milk Frother Rechargeable, 3-...</td>\n",
       "      <td>1729.0</td>\n",
       "      <td>Home&amp;Kitchen|Kitchen&amp;HomeAppliances|SmallKitch...</td>\n",
       "      <td>4.0</td>\n",
       "    </tr>\n",
       "    <tr>\n",
       "      <th>241</th>\n",
       "      <td>Campfire Spring Chef Prolix Instant Portable W...</td>\n",
       "      <td>2591.0</td>\n",
       "      <td>Home&amp;Kitchen|Heating,Cooling&amp;AirQuality|WaterH...</td>\n",
       "      <td>4.0</td>\n",
       "    </tr>\n",
       "    <tr>\n",
       "      <th>1023</th>\n",
       "      <td>Sony Bravia 164 cm (65 inches) 4K Ultra HD Sma...</td>\n",
       "      <td>5935.0</td>\n",
       "      <td>Electronics|HomeTheater,TV&amp;Video|Televisions|S...</td>\n",
       "      <td>4.0</td>\n",
       "    </tr>\n",
       "    <tr>\n",
       "      <th>694</th>\n",
       "      <td>Multifunctional 2 in 1 Electric Egg Boiling St...</td>\n",
       "      <td>2300.0</td>\n",
       "      <td>Home&amp;Kitchen|Kitchen&amp;HomeAppliances|SmallKitch...</td>\n",
       "      <td>4.0</td>\n",
       "    </tr>\n",
       "  </tbody>\n",
       "</table>\n",
       "</div>"
      ],
      "text/plain": [
       "                                           product_name  rating_count  \\\n",
       "880   REDTECH USB-C to Lightning Cable 3.3FT, [Apple...           0.0   \n",
       "1055  Syncwire LTG to USB Cable for Fast Charging Co...           5.0   \n",
       "85    Amazon Basics Wireless Mouse | 2.4 GHz Connect...          23.0   \n",
       "751   Oratech Coffee Frother electric, milk frother ...          28.0   \n",
       "1053  Swiffer Instant Electric Water Heater Faucet T...       53803.0   \n",
       "511   Instant Pot Air Fryer, Vortex 2QT, Touch Contr...        3964.0   \n",
       "368   FIGMENT Handheld Milk Frother Rechargeable, 3-...        1729.0   \n",
       "241   Campfire Spring Chef Prolix Instant Portable W...        2591.0   \n",
       "1023  Sony Bravia 164 cm (65 inches) 4K Ultra HD Sma...        5935.0   \n",
       "694   Multifunctional 2 in 1 Electric Egg Boiling St...        2300.0   \n",
       "\n",
       "                                               category  rating  \n",
       "880   Computers&Accessories|Accessories&Peripherals|...     5.0  \n",
       "1055  Computers&Accessories|Accessories&Peripherals|...     5.0  \n",
       "85    Computers&Accessories|Accessories&Peripherals|...     5.0  \n",
       "751   Home&Kitchen|Kitchen&HomeAppliances|SmallKitch...     4.0  \n",
       "1053  Home&Kitchen|Heating,Cooling&AirQuality|WaterH...     4.0  \n",
       "511   Home&Kitchen|Kitchen&HomeAppliances|SmallKitch...     4.0  \n",
       "368   Home&Kitchen|Kitchen&HomeAppliances|SmallKitch...     4.0  \n",
       "241   Home&Kitchen|Heating,Cooling&AirQuality|WaterH...     4.0  \n",
       "1023  Electronics|HomeTheater,TV&Video|Televisions|S...     4.0  \n",
       "694   Home&Kitchen|Kitchen&HomeAppliances|SmallKitch...     4.0  "
      ]
     },
     "execution_count": 114,
     "metadata": {},
     "output_type": "execute_result"
    }
   ],
   "source": [
    "print(\"Rating Base Recommendation System: (Trending Products)\")\n",
    "rating_base_recommendation.loc[:, ['product_name','rating','rating_count','category']] = rating_base_recommendation[['product_name','rating','rating_count','category']]\n",
    "rating_base_recommendation"
   ]
  },
  {
   "cell_type": "markdown",
   "id": "11c97e31-d133-41d3-9bac-b449838e7215",
   "metadata": {},
   "source": [
    "## Content base recommendation system"
   ]
  },
  {
   "cell_type": "code",
   "execution_count": 116,
   "id": "d7d91e24-432d-477d-b76e-290e5f424d18",
   "metadata": {},
   "outputs": [
    {
     "name": "stdout",
     "output_type": "stream",
     "text": [
      "Index(['product_id', 'product_name', 'category', 'discounted_price',\n",
      "       'actual_price', 'rating', 'rating_count', 'about_product'],\n",
      "      dtype='object')\n"
     ]
    }
   ],
   "source": [
    "print(df.columns)\n"
   ]
  },
  {
   "cell_type": "code",
   "execution_count": 118,
   "id": "d33a79b3-0e52-4836-85ca-6c310c3d2ad3",
   "metadata": {},
   "outputs": [
    {
     "name": "stdout",
     "output_type": "stream",
     "text": [
      "   product_id                                       product_name  \\\n",
      "0           0  D-Link DWA-131 300 Mbps Wireless Nano USB Adap...   \n",
      "1           1  TP-Link Nano USB WiFi Dongle 150Mbps High Gain...   \n",
      "2           2  Duracell Plus AAA Rechargeable Batteries (750 ...   \n",
      "3           3  Logitech B100 Wired USB Mouse, 3 yr Warranty, ...   \n",
      "4           4  Logitech M235 Wireless Mouse, 1000 DPI Optical...   \n",
      "\n",
      "                                            category  discounted_price  \\\n",
      "0  Computers&Accessories|NetworkingDevices|Networ...             507.0   \n",
      "1  Computers&Accessories|NetworkingDevices|Networ...             749.0   \n",
      "2  Electronics|GeneralPurposeBatteries&BatteryCha...             399.0   \n",
      "3  Computers&Accessories|Accessories&Peripherals|...             279.0   \n",
      "4  Computers&Accessories|Accessories&Peripherals|...             699.0   \n",
      "\n",
      "   actual_price  rating  rating_count  \\\n",
      "0        1208.0     4.1        8131.0   \n",
      "1        1339.0     4.2      179692.0   \n",
      "2         499.0     4.3       27201.0   \n",
      "3         375.0     4.3       31534.0   \n",
      "4         995.0     4.5       54405.0   \n",
      "\n",
      "                                       about_product  \n",
      "0  Connects your computer to a high-speed wireles...  \n",
      "1  150 Mbps Wi-Fi —— Exceptional wireless speed u...  \n",
      "2  Duracell Rechargeable AAA 750mAh batteries sta...  \n",
      "3  A comfortable, ambidextrous shape feels good i...  \n",
      "4  You can surf the Web with more comfort and eas...  \n"
     ]
    }
   ],
   "source": [
    "print(df.head())\n"
   ]
  },
  {
   "cell_type": "code",
   "execution_count": 120,
   "id": "e0a6ff26-bf5d-42e4-8cef-b5e8b3eedefa",
   "metadata": {},
   "outputs": [],
   "source": [
    "df_content = df[[ 'product_name','category', 'about_product', 'product_id', 'rating']]"
   ]
  },
  {
   "cell_type": "code",
   "execution_count": 124,
   "id": "7edcece3-6d31-4cb6-96dc-aea432c6752e",
   "metadata": {},
   "outputs": [],
   "source": [
    "# Update 'product_search_name' and 'category' using .loc[]\n",
    "df_content.loc[:, 'product_search_name'] = df_content['category'].apply(\n",
    "    lambda x: x.split(\"|\")[-1] if x else x  # Simplified check for empty string\n",
    ")\n",
    "\n",
    "df_content.loc[:, 'category'] = df_content['category'].apply(\n",
    "    lambda x: \" \".join(x.split(\"|\")[:2]) if x else x  # Simplified check for empty string\n",
    ")"
   ]
  },
  {
   "cell_type": "code",
   "execution_count": 126,
   "id": "80c70d35-87ee-4d6a-a544-1e40a9831a9b",
   "metadata": {},
   "outputs": [
    {
     "name": "stdout",
     "output_type": "stream",
     "text": [
      "Original string present in the category column is:\n",
      " Computers&Accessories|NetworkingDevices|NetworkAdapters|WirelessUSBAdapters\n",
      "--------------------\n",
      " The extracted category is:\n",
      " Computers&Accessories NetworkingDevices\n",
      "--------------------\n",
      "The extracted product search name is:\n",
      " Computers&Accessories NetworkingDevices\n"
     ]
    }
   ],
   "source": [
    "print(f\"Original string present in the category column is:\\n {df['category'][0]}\")\n",
    "print(\"-\" *20)\n",
    "print(f\" The extracted category is:\\n {df_content['category'][0]}\")\n",
    "print(\"-\" *20)\n",
    "print(f\"The extracted product search name is:\\n {df_content['product_search_name'][0]}\")"
   ]
  },
  {
   "cell_type": "code",
   "execution_count": 128,
   "id": "0ad7736f-37b1-4cac-bc1c-588963557f97",
   "metadata": {},
   "outputs": [],
   "source": [
    "df_content.loc[:, 'product_search_name'] = df_content['product_search_name'].str.lower()"
   ]
  },
  {
   "cell_type": "code",
   "execution_count": 132,
   "id": "5fd14408-49ca-4052-baad-60df4188574f",
   "metadata": {},
   "outputs": [],
   "source": [
    "df_content.loc[:, 'description'] = (\n",
    "    df_content['category'].fillna('') + \n",
    "    df_content['about_product'].fillna('') + \n",
    "    df_content['product_name'].fillna('')\n",
    ")\n"
   ]
  },
  {
   "cell_type": "code",
   "execution_count": 134,
   "id": "d660552f-f0bd-4d7d-b262-a91c5170f6b9",
   "metadata": {},
   "outputs": [
    {
     "data": {
      "text/html": [
       "<div>\n",
       "<style scoped>\n",
       "    .dataframe tbody tr th:only-of-type {\n",
       "        vertical-align: middle;\n",
       "    }\n",
       "\n",
       "    .dataframe tbody tr th {\n",
       "        vertical-align: top;\n",
       "    }\n",
       "\n",
       "    .dataframe thead th {\n",
       "        text-align: right;\n",
       "    }\n",
       "</style>\n",
       "<table border=\"1\" class=\"dataframe\">\n",
       "  <thead>\n",
       "    <tr style=\"text-align: right;\">\n",
       "      <th></th>\n",
       "      <th>product_name</th>\n",
       "      <th>category</th>\n",
       "      <th>about_product</th>\n",
       "      <th>product_id</th>\n",
       "      <th>rating</th>\n",
       "      <th>product_search_name</th>\n",
       "      <th>description</th>\n",
       "    </tr>\n",
       "  </thead>\n",
       "  <tbody>\n",
       "    <tr>\n",
       "      <th>0</th>\n",
       "      <td>D-Link DWA-131 300 Mbps Wireless Nano USB Adap...</td>\n",
       "      <td>Computers&amp;Accessories NetworkingDevices</td>\n",
       "      <td>Connects your computer to a high-speed wireles...</td>\n",
       "      <td>0</td>\n",
       "      <td>4.1</td>\n",
       "      <td>computers&amp;accessories networkingdevices</td>\n",
       "      <td>Computers&amp;Accessories NetworkingDevicesConnect...</td>\n",
       "    </tr>\n",
       "    <tr>\n",
       "      <th>1</th>\n",
       "      <td>TP-Link Nano USB WiFi Dongle 150Mbps High Gain...</td>\n",
       "      <td>Computers&amp;Accessories NetworkingDevices</td>\n",
       "      <td>150 Mbps Wi-Fi —— Exceptional wireless speed u...</td>\n",
       "      <td>1</td>\n",
       "      <td>4.2</td>\n",
       "      <td>computers&amp;accessories networkingdevices</td>\n",
       "      <td>Computers&amp;Accessories NetworkingDevices150 Mbp...</td>\n",
       "    </tr>\n",
       "  </tbody>\n",
       "</table>\n",
       "</div>"
      ],
      "text/plain": [
       "                                        product_name  \\\n",
       "0  D-Link DWA-131 300 Mbps Wireless Nano USB Adap...   \n",
       "1  TP-Link Nano USB WiFi Dongle 150Mbps High Gain...   \n",
       "\n",
       "                                  category  \\\n",
       "0  Computers&Accessories NetworkingDevices   \n",
       "1  Computers&Accessories NetworkingDevices   \n",
       "\n",
       "                                       about_product  product_id  rating  \\\n",
       "0  Connects your computer to a high-speed wireles...           0     4.1   \n",
       "1  150 Mbps Wi-Fi —— Exceptional wireless speed u...           1     4.2   \n",
       "\n",
       "                       product_search_name  \\\n",
       "0  computers&accessories networkingdevices   \n",
       "1  computers&accessories networkingdevices   \n",
       "\n",
       "                                         description  \n",
       "0  Computers&Accessories NetworkingDevicesConnect...  \n",
       "1  Computers&Accessories NetworkingDevices150 Mbp...  "
      ]
     },
     "execution_count": 134,
     "metadata": {},
     "output_type": "execute_result"
    }
   ],
   "source": [
    "df_content.head(2)"
   ]
  },
  {
   "cell_type": "code",
   "execution_count": 136,
   "id": "3badc1bd-3a09-48b2-bca4-d6e6a4dc0654",
   "metadata": {},
   "outputs": [
    {
     "data": {
      "text/plain": [
       "\"Electronics GeneralPurposeBatteries&BatteryChargersDuracell Rechargeable AAA 750mAh batteries stay charged for up to 12 months, when not in use|Unused Duracell Rechargeable AAA 750mAh batteries are guaranteed to last 3 years|Duracell Rechargeable AAA 750mAh batteries come pre-charged, ready to use|Duracell Rechargeable AAA 750mAh batteries can be recharged 100's times|Suited for regularly used devices like wireless mouse or babyphone|They are available in AA 1300mAh and AAA 750mAh sizes|They work in any NiMH chargerDuracell Plus AAA Rechargeable Batteries (750 mAh) Pack of 4\""
      ]
     },
     "execution_count": 136,
     "metadata": {},
     "output_type": "execute_result"
    }
   ],
   "source": [
    "df_content['description'][2]"
   ]
  },
  {
   "cell_type": "code",
   "execution_count": 138,
   "id": "67b1fbb4-a4f9-4ea9-b09e-4a1647ac37a6",
   "metadata": {},
   "outputs": [],
   "source": [
    "#Covert to lower case\n",
    "df_content.loc[:, 'description'] = df_content['description'].str.lower()"
   ]
  },
  {
   "cell_type": "code",
   "execution_count": 140,
   "id": "e311a64c-c232-4c7b-9517-275788cf2a79",
   "metadata": {},
   "outputs": [],
   "source": [
    "def stem(text):\n",
    "    if isinstance(text, str):  # Check if text is a string\n",
    "        y = []\n",
    "        for i in text.split():\n",
    "            y.append(ps.stem(i))  # Assuming ps is your stemmer\n",
    "        return \" \".join(y)\n",
    "    return text  # Return the original value if it's not a string\n"
   ]
  },
  {
   "cell_type": "code",
   "execution_count": 142,
   "id": "bf8c9ded-0e71-4e8e-9912-4e6aef59c8c4",
   "metadata": {},
   "outputs": [],
   "source": [
    "df_content.loc[:, 'description'] = df_content['description'].apply(stem)"
   ]
  },
  {
   "cell_type": "code",
   "execution_count": 143,
   "id": "ba9250fd-4ec3-4a83-b55e-7e5e7753cc8f",
   "metadata": {},
   "outputs": [],
   "source": [
    "#Define a TF-IDF Vectorizer Object. Remove all english stop words such as 'the', 'a'\n",
    "tfidf = TfidfVectorizer(stop_words='english')\n",
    "\n",
    "df_content.loc[:, 'description'] = df_content['description'].fillna('')\n",
    "\n",
    "#Construct the required TF-IDF matrix by fitting and transforming the data\n",
    "tfidf_matrix = tfidf.fit_transform(df_content['description']).toarray()"
   ]
  },
  {
   "cell_type": "code",
   "execution_count": 144,
   "id": "1f1db6d8-f3e1-43cc-bbad-e1f78bc91b51",
   "metadata": {},
   "outputs": [
    {
     "data": {
      "text/plain": [
       "(1351, 10951)"
      ]
     },
     "execution_count": 144,
     "metadata": {},
     "output_type": "execute_result"
    }
   ],
   "source": [
    "#Output the shape of tfidf_matrix\n",
    "tfidf_matrix.shape"
   ]
  },
  {
   "cell_type": "code",
   "execution_count": 148,
   "id": "38a1fbdd-e5be-4cd4-b611-eafa76e647df",
   "metadata": {},
   "outputs": [
    {
     "data": {
      "text/plain": [
       "array([[0., 0., 0., ..., 0., 0., 0.],\n",
       "       [0., 0., 0., ..., 0., 0., 0.],\n",
       "       [0., 0., 0., ..., 0., 0., 0.],\n",
       "       ...,\n",
       "       [0., 0., 0., ..., 0., 0., 0.],\n",
       "       [0., 0., 0., ..., 0., 0., 0.],\n",
       "       [0., 0., 0., ..., 0., 0., 0.]])"
      ]
     },
     "execution_count": 148,
     "metadata": {},
     "output_type": "execute_result"
    }
   ],
   "source": [
    "tfidf_matrix"
   ]
  },
  {
   "cell_type": "code",
   "execution_count": 150,
   "id": "6e466f79-2f05-4418-8887-be17bdbcf5a2",
   "metadata": {},
   "outputs": [
    {
     "data": {
      "text/plain": [
       "array([[1.        , 0.26969795, 0.01523116, ..., 0.0028744 , 0.02716936,\n",
       "        0.00710969],\n",
       "       [0.26969795, 1.        , 0.00969605, ..., 0.00939581, 0.04106641,\n",
       "        0.01133409],\n",
       "       [0.01523116, 0.00969605, 1.        , ..., 0.02104322, 0.01651457,\n",
       "        0.00373394],\n",
       "       ...,\n",
       "       [0.0028744 , 0.00939581, 0.02104322, ..., 1.        , 0.00511526,\n",
       "        0.04263457],\n",
       "       [0.02716936, 0.04106641, 0.01651457, ..., 0.00511526, 1.        ,\n",
       "        0.01259805],\n",
       "       [0.00710969, 0.01133409, 0.00373394, ..., 0.04263457, 0.01259805,\n",
       "        1.        ]])"
      ]
     },
     "execution_count": 150,
     "metadata": {},
     "output_type": "execute_result"
    }
   ],
   "source": [
    "similarity = cosine_similarity(tfidf_matrix)\n",
    "similarity"
   ]
  },
  {
   "cell_type": "code",
   "execution_count": 152,
   "id": "7778ca61-69e9-4363-b169-83f88192ad2a",
   "metadata": {},
   "outputs": [
    {
     "data": {
      "text/plain": [
       "[(0, 0.9999999999999998),\n",
       " (370, 0.31064184588910804),\n",
       " (387, 0.2905280941918484),\n",
       " (320, 0.28777153806642775),\n",
       " (444, 0.28076871309863394)]"
      ]
     },
     "execution_count": 152,
     "metadata": {},
     "output_type": "execute_result"
    }
   ],
   "source": [
    "sorted(list(enumerate(similarity[0])), reverse = True, key = lambda x: x[1])[:5]"
   ]
  },
  {
   "cell_type": "code",
   "execution_count": 154,
   "id": "e7a0b67a-b1bf-4510-855c-6874ffbd3229",
   "metadata": {},
   "outputs": [],
   "source": [
    "def recommend(name):\n",
    "    matched_products = df_content[df_content['product_search_name'] == name]\n",
    "    if matched_products.empty:\n",
    "        print(f\"No matches found for '{name}'.\")\n",
    "        return None  # or handle accordingly\n",
    "    \n",
    "    product_index = matched_products.index[0]\n",
    "    distances = similarity[product_index]\n",
    "    product_list = sorted(list(enumerate(distances)), reverse=True, key=lambda x: x[1])[1:6]\n",
    "    return product_list\n"
   ]
  },
  {
   "cell_type": "code",
   "execution_count": null,
   "id": "83453989-78fd-4e66-b170-0577bcd90ee0",
   "metadata": {},
   "outputs": [],
   "source": []
  }
 ],
 "metadata": {
  "kernelspec": {
   "display_name": "Python 3 (ipykernel)",
   "language": "python",
   "name": "python3"
  },
  "language_info": {
   "codemirror_mode": {
    "name": "ipython",
    "version": 3
   },
   "file_extension": ".py",
   "mimetype": "text/x-python",
   "name": "python",
   "nbconvert_exporter": "python",
   "pygments_lexer": "ipython3",
   "version": "3.12.4"
  }
 },
 "nbformat": 4,
 "nbformat_minor": 5
}
