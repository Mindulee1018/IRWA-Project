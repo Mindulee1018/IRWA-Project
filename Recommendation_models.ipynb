{
 "cells": [
  {
   "cell_type": "markdown",
   "id": "6077b105-9150-474f-b105-f81048c98479",
   "metadata": {},
   "source": [
    "## Rating base recommendation system"
   ]
  },
  {
   "cell_type": "code",
   "execution_count": 3,
   "id": "d4c112a1-a0fc-4bd7-a065-0facdebbbac3",
   "metadata": {},
   "outputs": [],
   "source": [
    "import pandas as pd\n",
    "import numpy as np\n",
    "import matplotlib.pyplot as plt\n",
    "import seaborn as sns\n",
    "\n",
    "from sklearn.metrics.pairwise import cosine_similarity\n",
    "from sklearn.feature_extraction.text import TfidfVectorizer\n",
    "\n",
    "import os\n",
    "from scipy.sparse import coo_matrix"
   ]
  },
  {
   "cell_type": "code",
   "execution_count": 5,
   "id": "01c827c8-6cf1-4e42-b38f-0adf223b606b",
   "metadata": {},
   "outputs": [
    {
     "data": {
      "text/plain": [
       "Index(['product_id', 'product_name', 'category', 'discounted_price',\n",
       "       'actual_price', 'rating', 'rating_count', 'about_product'],\n",
       "      dtype='object')"
      ]
     },
     "execution_count": 5,
     "metadata": {},
     "output_type": "execute_result"
    }
   ],
   "source": [
    "#read dataset\n",
    "df = pd.read_csv(r'C:\\Users\\DELL\\Desktop\\cleaned_train_data.csv')\n",
    "df.columns"
   ]
  },
  {
   "cell_type": "code",
   "execution_count": 9,
   "id": "dd2241b4-8675-4b4b-882a-ed043ba82682",
   "metadata": {},
   "outputs": [],
   "source": [
    "average_ratings = df.groupby(['product_name','rating_count','category'])['rating'].mean().reset_index()"
   ]
  },
  {
   "cell_type": "code",
   "execution_count": 11,
   "id": "35957012-739e-4a85-be56-044a84bcb722",
   "metadata": {},
   "outputs": [],
   "source": [
    "top_rated_items = average_ratings.sort_values(by='rating', ascending=False)\n",
    "\n",
    "rating_base_recommendation = top_rated_items.head(10)"
   ]
  },
  {
   "cell_type": "code",
   "execution_count": 15,
   "id": "6cffbd55-f397-4624-8222-6e2ce1ecbbd4",
   "metadata": {},
   "outputs": [],
   "source": [
    "rating_base_recommendation.loc[:,'rating'] = rating_base_recommendation['rating'].astype(int)\n",
    "rating_base_recommendation.loc[:,'rating_count'] = rating_base_recommendation['rating_count'].astype(int)"
   ]
  },
  {
   "cell_type": "code",
   "execution_count": 17,
   "id": "65c0f7ac-6237-409b-b917-7d7764ebcf73",
   "metadata": {},
   "outputs": [
    {
     "name": "stdout",
     "output_type": "stream",
     "text": [
      "Rating Base Recommendation System: (Trending Products)\n"
     ]
    },
    {
     "name": "stderr",
     "output_type": "stream",
     "text": [
      "C:\\Users\\DELL\\AppData\\Local\\Temp\\ipykernel_660\\13513968.py:2: SettingWithCopyWarning: \n",
      "A value is trying to be set on a copy of a slice from a DataFrame.\n",
      "Try using .loc[row_indexer,col_indexer] = value instead\n",
      "\n",
      "See the caveats in the documentation: https://pandas.pydata.org/pandas-docs/stable/user_guide/indexing.html#returning-a-view-versus-a-copy\n",
      "  rating_base_recommendation[['product_name','rating','rating_count','category']] = rating_base_recommendation[['product_name','rating','rating_count','category']]\n"
     ]
    },
    {
     "data": {
      "text/html": [
       "<div>\n",
       "<style scoped>\n",
       "    .dataframe tbody tr th:only-of-type {\n",
       "        vertical-align: middle;\n",
       "    }\n",
       "\n",
       "    .dataframe tbody tr th {\n",
       "        vertical-align: top;\n",
       "    }\n",
       "\n",
       "    .dataframe thead th {\n",
       "        text-align: right;\n",
       "    }\n",
       "</style>\n",
       "<table border=\"1\" class=\"dataframe\">\n",
       "  <thead>\n",
       "    <tr style=\"text-align: right;\">\n",
       "      <th></th>\n",
       "      <th>product_name</th>\n",
       "      <th>rating_count</th>\n",
       "      <th>category</th>\n",
       "      <th>rating</th>\n",
       "    </tr>\n",
       "  </thead>\n",
       "  <tbody>\n",
       "    <tr>\n",
       "      <th>880</th>\n",
       "      <td>REDTECH USB-C to Lightning Cable 3.3FT, [Apple...</td>\n",
       "      <td>0</td>\n",
       "      <td>Computers&amp;Accessories|Accessories&amp;Peripherals|...</td>\n",
       "      <td>5</td>\n",
       "    </tr>\n",
       "    <tr>\n",
       "      <th>1055</th>\n",
       "      <td>Syncwire LTG to USB Cable for Fast Charging Co...</td>\n",
       "      <td>5</td>\n",
       "      <td>Computers&amp;Accessories|Accessories&amp;Peripherals|...</td>\n",
       "      <td>5</td>\n",
       "    </tr>\n",
       "    <tr>\n",
       "      <th>85</th>\n",
       "      <td>Amazon Basics Wireless Mouse | 2.4 GHz Connect...</td>\n",
       "      <td>23</td>\n",
       "      <td>Computers&amp;Accessories|Accessories&amp;Peripherals|...</td>\n",
       "      <td>5</td>\n",
       "    </tr>\n",
       "    <tr>\n",
       "      <th>751</th>\n",
       "      <td>Oratech Coffee Frother electric, milk frother ...</td>\n",
       "      <td>28</td>\n",
       "      <td>Home&amp;Kitchen|Kitchen&amp;HomeAppliances|SmallKitch...</td>\n",
       "      <td>4</td>\n",
       "    </tr>\n",
       "    <tr>\n",
       "      <th>1053</th>\n",
       "      <td>Swiffer Instant Electric Water Heater Faucet T...</td>\n",
       "      <td>53803</td>\n",
       "      <td>Home&amp;Kitchen|Heating,Cooling&amp;AirQuality|WaterH...</td>\n",
       "      <td>4</td>\n",
       "    </tr>\n",
       "    <tr>\n",
       "      <th>511</th>\n",
       "      <td>Instant Pot Air Fryer, Vortex 2QT, Touch Contr...</td>\n",
       "      <td>3964</td>\n",
       "      <td>Home&amp;Kitchen|Kitchen&amp;HomeAppliances|SmallKitch...</td>\n",
       "      <td>4</td>\n",
       "    </tr>\n",
       "    <tr>\n",
       "      <th>368</th>\n",
       "      <td>FIGMENT Handheld Milk Frother Rechargeable, 3-...</td>\n",
       "      <td>1729</td>\n",
       "      <td>Home&amp;Kitchen|Kitchen&amp;HomeAppliances|SmallKitch...</td>\n",
       "      <td>4</td>\n",
       "    </tr>\n",
       "    <tr>\n",
       "      <th>241</th>\n",
       "      <td>Campfire Spring Chef Prolix Instant Portable W...</td>\n",
       "      <td>2591</td>\n",
       "      <td>Home&amp;Kitchen|Heating,Cooling&amp;AirQuality|WaterH...</td>\n",
       "      <td>4</td>\n",
       "    </tr>\n",
       "    <tr>\n",
       "      <th>1023</th>\n",
       "      <td>Sony Bravia 164 cm (65 inches) 4K Ultra HD Sma...</td>\n",
       "      <td>5935</td>\n",
       "      <td>Electronics|HomeTheater,TV&amp;Video|Televisions|S...</td>\n",
       "      <td>4</td>\n",
       "    </tr>\n",
       "    <tr>\n",
       "      <th>694</th>\n",
       "      <td>Multifunctional 2 in 1 Electric Egg Boiling St...</td>\n",
       "      <td>2300</td>\n",
       "      <td>Home&amp;Kitchen|Kitchen&amp;HomeAppliances|SmallKitch...</td>\n",
       "      <td>4</td>\n",
       "    </tr>\n",
       "  </tbody>\n",
       "</table>\n",
       "</div>"
      ],
      "text/plain": [
       "                                           product_name  rating_count  \\\n",
       "880   REDTECH USB-C to Lightning Cable 3.3FT, [Apple...             0   \n",
       "1055  Syncwire LTG to USB Cable for Fast Charging Co...             5   \n",
       "85    Amazon Basics Wireless Mouse | 2.4 GHz Connect...            23   \n",
       "751   Oratech Coffee Frother electric, milk frother ...            28   \n",
       "1053  Swiffer Instant Electric Water Heater Faucet T...         53803   \n",
       "511   Instant Pot Air Fryer, Vortex 2QT, Touch Contr...          3964   \n",
       "368   FIGMENT Handheld Milk Frother Rechargeable, 3-...          1729   \n",
       "241   Campfire Spring Chef Prolix Instant Portable W...          2591   \n",
       "1023  Sony Bravia 164 cm (65 inches) 4K Ultra HD Sma...          5935   \n",
       "694   Multifunctional 2 in 1 Electric Egg Boiling St...          2300   \n",
       "\n",
       "                                               category  rating  \n",
       "880   Computers&Accessories|Accessories&Peripherals|...       5  \n",
       "1055  Computers&Accessories|Accessories&Peripherals|...       5  \n",
       "85    Computers&Accessories|Accessories&Peripherals|...       5  \n",
       "751   Home&Kitchen|Kitchen&HomeAppliances|SmallKitch...       4  \n",
       "1053  Home&Kitchen|Heating,Cooling&AirQuality|WaterH...       4  \n",
       "511   Home&Kitchen|Kitchen&HomeAppliances|SmallKitch...       4  \n",
       "368   Home&Kitchen|Kitchen&HomeAppliances|SmallKitch...       4  \n",
       "241   Home&Kitchen|Heating,Cooling&AirQuality|WaterH...       4  \n",
       "1023  Electronics|HomeTheater,TV&Video|Televisions|S...       4  \n",
       "694   Home&Kitchen|Kitchen&HomeAppliances|SmallKitch...       4  "
      ]
     },
     "execution_count": 17,
     "metadata": {},
     "output_type": "execute_result"
    }
   ],
   "source": [
    "print(\"Rating Base Recommendation System: (Trending Products)\")\n",
    "rating_base_recommendation[['product_name','rating','rating_count','category']] = rating_base_recommendation[['product_name','rating','rating_count','category']]\n",
    "rating_base_recommendation"
   ]
  },
  {
   "cell_type": "code",
   "execution_count": null,
   "id": "a7383e8e-cb76-47fe-8ceb-e6c3522f3ba7",
   "metadata": {},
   "outputs": [],
   "source": []
  }
 ],
 "metadata": {
  "kernelspec": {
   "display_name": "Python 3 (ipykernel)",
   "language": "python",
   "name": "python3"
  },
  "language_info": {
   "codemirror_mode": {
    "name": "ipython",
    "version": 3
   },
   "file_extension": ".py",
   "mimetype": "text/x-python",
   "name": "python",
   "nbconvert_exporter": "python",
   "pygments_lexer": "ipython3",
   "version": "3.12.4"
  }
 },
 "nbformat": 4,
 "nbformat_minor": 5
}
