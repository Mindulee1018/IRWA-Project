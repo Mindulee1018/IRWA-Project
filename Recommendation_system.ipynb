{
 "cells": [
  {
   "cell_type": "markdown",
   "id": "d89a60bb-2e81-4986-9bdc-37f078e379eb",
   "metadata": {},
   "source": [
    "## Import libraries"
   ]
  },
  {
   "cell_type": "code",
   "execution_count": 3,
   "id": "6b3437db-e236-4e9c-8bba-5cc15a46e6a5",
   "metadata": {},
   "outputs": [],
   "source": [
    "import pandas as pd\n",
    "import numpy as np\n",
    "import matplotlib.pyplot as plt\n",
    "import seaborn as sns\n",
    "\n",
    "from sklearn.metrics.pairwise import cosine_similarity\n",
    "from sklearn.feature_extraction.text import TfidfVectorizer\n",
    "\n",
    "import os\n",
    "from scipy.sparse import coo_matrix"
   ]
  },
  {
   "cell_type": "markdown",
   "id": "51235522-a935-4b67-ab51-98a4cd3376ff",
   "metadata": {},
   "source": [
    "## Read Dataset"
   ]
  },
  {
   "cell_type": "code",
   "execution_count": 78,
   "id": "72b84616-c69f-4b7d-85ad-d4c8b00f9c73",
   "metadata": {},
   "outputs": [
    {
     "data": {
      "text/plain": [
       "Index(['product_id', 'product_name', 'category', 'discounted_price',\n",
       "       'actual_price', 'discount_percentage', 'rating', 'rating_count',\n",
       "       'about_product', 'user_id', 'user_name', 'review_id', 'review_title',\n",
       "       'review_content', 'img_link', 'product_link'],\n",
       "      dtype='object')"
      ]
     },
     "execution_count": 78,
     "metadata": {},
     "output_type": "execute_result"
    }
   ],
   "source": [
    "#read dataset\n",
    "df = pd.read_csv('amazon.csv')\n",
    "df.columns"
   ]
  },
  {
   "cell_type": "code",
   "execution_count": 116,
   "id": "bea9c41d-9078-4403-bfaa-a4d309192fad",
   "metadata": {},
   "outputs": [
    {
     "data": {
      "text/html": [
       "<div>\n",
       "<style scoped>\n",
       "    .dataframe tbody tr th:only-of-type {\n",
       "        vertical-align: middle;\n",
       "    }\n",
       "\n",
       "    .dataframe tbody tr th {\n",
       "        vertical-align: top;\n",
       "    }\n",
       "\n",
       "    .dataframe thead th {\n",
       "        text-align: right;\n",
       "    }\n",
       "</style>\n",
       "<table border=\"1\" class=\"dataframe\">\n",
       "  <thead>\n",
       "    <tr style=\"text-align: right;\">\n",
       "      <th></th>\n",
       "      <th>product_id</th>\n",
       "      <th>product_name</th>\n",
       "      <th>category</th>\n",
       "      <th>actual_price</th>\n",
       "      <th>rating</th>\n",
       "      <th>rating_count</th>\n",
       "      <th>about_product</th>\n",
       "      <th>img_link</th>\n",
       "      <th>product_link</th>\n",
       "    </tr>\n",
       "  </thead>\n",
       "  <tbody>\n",
       "    <tr>\n",
       "      <th>0</th>\n",
       "      <td>B07JW9H4J1</td>\n",
       "      <td>Wayona Nylon Braided USB to Lightning Fast Cha...</td>\n",
       "      <td>Computers&amp;Accessories|Accessories&amp;Peripherals|...</td>\n",
       "      <td>₹1,099</td>\n",
       "      <td>4.2</td>\n",
       "      <td>24,269</td>\n",
       "      <td>High Compatibility : Compatible With iPhone 12...</td>\n",
       "      <td>https://m.media-amazon.com/images/W/WEBP_40237...</td>\n",
       "      <td>https://www.amazon.in/Wayona-Braided-WN3LG1-Sy...</td>\n",
       "    </tr>\n",
       "    <tr>\n",
       "      <th>1</th>\n",
       "      <td>B098NS6PVG</td>\n",
       "      <td>Ambrane Unbreakable 60W / 3A Fast Charging 1.5...</td>\n",
       "      <td>Computers&amp;Accessories|Accessories&amp;Peripherals|...</td>\n",
       "      <td>₹349</td>\n",
       "      <td>4.0</td>\n",
       "      <td>43,994</td>\n",
       "      <td>Compatible with all Type C enabled devices, be...</td>\n",
       "      <td>https://m.media-amazon.com/images/W/WEBP_40237...</td>\n",
       "      <td>https://www.amazon.in/Ambrane-Unbreakable-Char...</td>\n",
       "    </tr>\n",
       "    <tr>\n",
       "      <th>2</th>\n",
       "      <td>B096MSW6CT</td>\n",
       "      <td>Sounce Fast Phone Charging Cable &amp; Data Sync U...</td>\n",
       "      <td>Computers&amp;Accessories|Accessories&amp;Peripherals|...</td>\n",
       "      <td>₹1,899</td>\n",
       "      <td>3.9</td>\n",
       "      <td>7,928</td>\n",
       "      <td>【 Fast Charger&amp; Data Sync】-With built-in safet...</td>\n",
       "      <td>https://m.media-amazon.com/images/W/WEBP_40237...</td>\n",
       "      <td>https://www.amazon.in/Sounce-iPhone-Charging-C...</td>\n",
       "    </tr>\n",
       "  </tbody>\n",
       "</table>\n",
       "</div>"
      ],
      "text/plain": [
       "   product_id                                       product_name  \\\n",
       "0  B07JW9H4J1  Wayona Nylon Braided USB to Lightning Fast Cha...   \n",
       "1  B098NS6PVG  Ambrane Unbreakable 60W / 3A Fast Charging 1.5...   \n",
       "2  B096MSW6CT  Sounce Fast Phone Charging Cable & Data Sync U...   \n",
       "\n",
       "                                            category actual_price rating  \\\n",
       "0  Computers&Accessories|Accessories&Peripherals|...       ₹1,099    4.2   \n",
       "1  Computers&Accessories|Accessories&Peripherals|...         ₹349    4.0   \n",
       "2  Computers&Accessories|Accessories&Peripherals|...       ₹1,899    3.9   \n",
       "\n",
       "  rating_count                                      about_product  \\\n",
       "0       24,269  High Compatibility : Compatible With iPhone 12...   \n",
       "1       43,994  Compatible with all Type C enabled devices, be...   \n",
       "2        7,928  【 Fast Charger& Data Sync】-With built-in safet...   \n",
       "\n",
       "                                            img_link  \\\n",
       "0  https://m.media-amazon.com/images/W/WEBP_40237...   \n",
       "1  https://m.media-amazon.com/images/W/WEBP_40237...   \n",
       "2  https://m.media-amazon.com/images/W/WEBP_40237...   \n",
       "\n",
       "                                        product_link  \n",
       "0  https://www.amazon.in/Wayona-Braided-WN3LG1-Sy...  \n",
       "1  https://www.amazon.in/Ambrane-Unbreakable-Char...  \n",
       "2  https://www.amazon.in/Sounce-iPhone-Charging-C...  "
      ]
     },
     "execution_count": 116,
     "metadata": {},
     "output_type": "execute_result"
    }
   ],
   "source": [
    "train_data = df[['product_id','product_name', 'category','actual_price', 'rating', 'rating_count', 'about_product', 'img_link', 'product_link']]\n",
    "train_data.head(3)"
   ]
  },
  {
   "cell_type": "code",
   "execution_count": 132,
   "id": "08116552-c1b3-4cd7-9b6b-ee0cab842100",
   "metadata": {},
   "outputs": [
    {
     "name": "stdout",
     "output_type": "stream",
     "text": [
      "<class 'pandas.core.frame.DataFrame'>\n",
      "RangeIndex: 1465 entries, 0 to 1464\n",
      "Data columns (total 9 columns):\n",
      " #   Column         Non-Null Count  Dtype \n",
      "---  ------         --------------  ----- \n",
      " 0   product_id     1465 non-null   object\n",
      " 1   product_name   1465 non-null   object\n",
      " 2   category       1465 non-null   object\n",
      " 3   actual_price   1465 non-null   object\n",
      " 4   rating         1465 non-null   object\n",
      " 5   rating_count   1465 non-null   object\n",
      " 6   about_product  1465 non-null   object\n",
      " 7   img_link       1465 non-null   object\n",
      " 8   product_link   1465 non-null   object\n",
      "dtypes: object(9)\n",
      "memory usage: 103.1+ KB\n"
     ]
    }
   ],
   "source": [
    "train_data.info()"
   ]
  },
  {
   "cell_type": "code",
   "execution_count": 120,
   "id": "c14f8375-5e39-4ad0-81f6-a8811f35d7c4",
   "metadata": {},
   "outputs": [
    {
     "data": {
      "text/plain": [
       "(1465, 9)"
      ]
     },
     "execution_count": 120,
     "metadata": {},
     "output_type": "execute_result"
    }
   ],
   "source": [
    "#display the shape of the data\n",
    "train_data.shape"
   ]
  },
  {
   "cell_type": "code",
   "execution_count": 122,
   "id": "eead823b-d399-4ea9-98be-e9416f3f5723",
   "metadata": {
    "scrolled": true
   },
   "outputs": [
    {
     "data": {
      "text/html": [
       "<div>\n",
       "<style scoped>\n",
       "    .dataframe tbody tr th:only-of-type {\n",
       "        vertical-align: middle;\n",
       "    }\n",
       "\n",
       "    .dataframe tbody tr th {\n",
       "        vertical-align: top;\n",
       "    }\n",
       "\n",
       "    .dataframe thead th {\n",
       "        text-align: right;\n",
       "    }\n",
       "</style>\n",
       "<table border=\"1\" class=\"dataframe\">\n",
       "  <thead>\n",
       "    <tr style=\"text-align: right;\">\n",
       "      <th></th>\n",
       "      <th>count</th>\n",
       "      <th>unique</th>\n",
       "      <th>top</th>\n",
       "      <th>freq</th>\n",
       "    </tr>\n",
       "  </thead>\n",
       "  <tbody>\n",
       "    <tr>\n",
       "      <th>product_id</th>\n",
       "      <td>1465</td>\n",
       "      <td>1351</td>\n",
       "      <td>B07JW9H4J1</td>\n",
       "      <td>3</td>\n",
       "    </tr>\n",
       "    <tr>\n",
       "      <th>product_name</th>\n",
       "      <td>1465</td>\n",
       "      <td>1337</td>\n",
       "      <td>Fire-Boltt Ninja Call Pro Plus 1.83\" Smart Wat...</td>\n",
       "      <td>5</td>\n",
       "    </tr>\n",
       "    <tr>\n",
       "      <th>category</th>\n",
       "      <td>1465</td>\n",
       "      <td>211</td>\n",
       "      <td>Computers&amp;Accessories|Accessories&amp;Peripherals|...</td>\n",
       "      <td>233</td>\n",
       "    </tr>\n",
       "    <tr>\n",
       "      <th>actual_price</th>\n",
       "      <td>1465</td>\n",
       "      <td>449</td>\n",
       "      <td>₹999</td>\n",
       "      <td>120</td>\n",
       "    </tr>\n",
       "    <tr>\n",
       "      <th>rating</th>\n",
       "      <td>1465</td>\n",
       "      <td>28</td>\n",
       "      <td>4.1</td>\n",
       "      <td>244</td>\n",
       "    </tr>\n",
       "    <tr>\n",
       "      <th>rating_count</th>\n",
       "      <td>1463</td>\n",
       "      <td>1143</td>\n",
       "      <td>9,378</td>\n",
       "      <td>9</td>\n",
       "    </tr>\n",
       "    <tr>\n",
       "      <th>about_product</th>\n",
       "      <td>1465</td>\n",
       "      <td>1293</td>\n",
       "      <td>[CHARGE &amp; SYNC FUNCTION]- This cable comes wit...</td>\n",
       "      <td>6</td>\n",
       "    </tr>\n",
       "    <tr>\n",
       "      <th>img_link</th>\n",
       "      <td>1465</td>\n",
       "      <td>1412</td>\n",
       "      <td>https://m.media-amazon.com/images/I/413sCRKobN...</td>\n",
       "      <td>3</td>\n",
       "    </tr>\n",
       "    <tr>\n",
       "      <th>product_link</th>\n",
       "      <td>1465</td>\n",
       "      <td>1465</td>\n",
       "      <td>https://www.amazon.in/Wayona-Braided-WN3LG1-Sy...</td>\n",
       "      <td>1</td>\n",
       "    </tr>\n",
       "  </tbody>\n",
       "</table>\n",
       "</div>"
      ],
      "text/plain": [
       "              count unique                                                top  \\\n",
       "product_id     1465   1351                                         B07JW9H4J1   \n",
       "product_name   1465   1337  Fire-Boltt Ninja Call Pro Plus 1.83\" Smart Wat...   \n",
       "category       1465    211  Computers&Accessories|Accessories&Peripherals|...   \n",
       "actual_price   1465    449                                               ₹999   \n",
       "rating         1465     28                                                4.1   \n",
       "rating_count   1463   1143                                              9,378   \n",
       "about_product  1465   1293  [CHARGE & SYNC FUNCTION]- This cable comes wit...   \n",
       "img_link       1465   1412  https://m.media-amazon.com/images/I/413sCRKobN...   \n",
       "product_link   1465   1465  https://www.amazon.in/Wayona-Braided-WN3LG1-Sy...   \n",
       "\n",
       "              freq  \n",
       "product_id       3  \n",
       "product_name     5  \n",
       "category       233  \n",
       "actual_price   120  \n",
       "rating         244  \n",
       "rating_count     9  \n",
       "about_product    6  \n",
       "img_link         3  \n",
       "product_link     1  "
      ]
     },
     "execution_count": 122,
     "metadata": {},
     "output_type": "execute_result"
    }
   ],
   "source": [
    "#describe the data\n",
    "train_data.describe().T"
   ]
  },
  {
   "cell_type": "markdown",
   "id": "1f20659a-d7f9-4206-b0de-2335a81fdc06",
   "metadata": {},
   "source": [
    "# Data Cleaning"
   ]
  },
  {
   "cell_type": "markdown",
   "id": "94f27607-5c47-4f40-a496-6610cea0d168",
   "metadata": {},
   "source": [
    "## Handling Missing values"
   ]
  },
  {
   "cell_type": "code",
   "execution_count": 124,
   "id": "1ded8b0e-4588-4ee7-97d2-9f37d3de678a",
   "metadata": {},
   "outputs": [
    {
     "data": {
      "text/plain": [
       "product_id       0\n",
       "product_name     0\n",
       "category         0\n",
       "actual_price     0\n",
       "rating           0\n",
       "rating_count     2\n",
       "about_product    0\n",
       "img_link         0\n",
       "product_link     0\n",
       "dtype: int64"
      ]
     },
     "execution_count": 124,
     "metadata": {},
     "output_type": "execute_result"
    }
   ],
   "source": [
    "#check for any null values\n",
    "train_data.isnull().sum()"
   ]
  },
  {
   "cell_type": "code",
   "execution_count": 126,
   "id": "ba59f5e9-e381-499e-8c14-300d562691b5",
   "metadata": {},
   "outputs": [
    {
     "name": "stderr",
     "output_type": "stream",
     "text": [
      "C:\\Users\\Mindulee Fonseka\\AppData\\Local\\Temp\\ipykernel_25356\\4244284007.py:2: FutureWarning: A value is trying to be set on a copy of a DataFrame or Series through chained assignment using an inplace method.\n",
      "The behavior will change in pandas 3.0. This inplace method will never work because the intermediate object on which we are setting values always behaves as a copy.\n",
      "\n",
      "For example, when doing 'df[col].method(value, inplace=True)', try using 'df.method({col: value}, inplace=True)' or df[col] = df[col].method(value) instead, to perform the operation inplace on the original object.\n",
      "\n",
      "\n",
      "  train_data['rating_count'].fillna(0, inplace=True)\n",
      "C:\\Users\\Mindulee Fonseka\\AppData\\Local\\Temp\\ipykernel_25356\\4244284007.py:2: SettingWithCopyWarning: \n",
      "A value is trying to be set on a copy of a slice from a DataFrame\n",
      "\n",
      "See the caveats in the documentation: https://pandas.pydata.org/pandas-docs/stable/user_guide/indexing.html#returning-a-view-versus-a-copy\n",
      "  train_data['rating_count'].fillna(0, inplace=True)\n"
     ]
    }
   ],
   "source": [
    "# Fill missing values in 'Product Rating' with a default value (e.g., 0)\n",
    "train_data['rating_count'].fillna(0, inplace=True)"
   ]
  },
  {
   "cell_type": "code",
   "execution_count": 128,
   "id": "a307d849-9b50-4cad-a94f-f83efe914f22",
   "metadata": {},
   "outputs": [
    {
     "data": {
      "text/plain": [
       "product_id       0\n",
       "product_name     0\n",
       "category         0\n",
       "actual_price     0\n",
       "rating           0\n",
       "rating_count     0\n",
       "about_product    0\n",
       "img_link         0\n",
       "product_link     0\n",
       "dtype: int64"
      ]
     },
     "execution_count": 128,
     "metadata": {},
     "output_type": "execute_result"
    }
   ],
   "source": [
    "train_data.isnull().sum()"
   ]
  },
  {
   "cell_type": "code",
   "execution_count": 135,
   "id": "4300fa7e-a7b1-488f-b192-322818fd703e",
   "metadata": {},
   "outputs": [
    {
     "data": {
      "text/plain": [
       "0"
      ]
     },
     "execution_count": 135,
     "metadata": {},
     "output_type": "execute_result"
    }
   ],
   "source": [
    "#check if duplicates have\n",
    "train_data.duplicated().sum()"
   ]
  },
  {
   "cell_type": "markdown",
   "id": "931e04e2-c933-4fcc-be76-16318f4a66ff",
   "metadata": {},
   "source": [
    "## Correct Data Types"
   ]
  },
  {
   "cell_type": "code",
   "execution_count": 170,
   "id": "e2cc29f8-27e0-4fbc-befc-78c1008aff51",
   "metadata": {},
   "outputs": [
    {
     "name": "stderr",
     "output_type": "stream",
     "text": [
      "C:\\Users\\Mindulee Fonseka\\AppData\\Local\\Temp\\ipykernel_25356\\4110562236.py:2: SettingWithCopyWarning: \n",
      "A value is trying to be set on a copy of a slice from a DataFrame.\n",
      "Try using .loc[row_indexer,col_indexer] = value instead\n",
      "\n",
      "See the caveats in the documentation: https://pandas.pydata.org/pandas-docs/stable/user_guide/indexing.html#returning-a-view-versus-a-copy\n",
      "  train_data['actual_price']= train_data['actual_price'].replace( {'\\₹': '' , ',': ''}, regex=True).astype(float)\n"
     ]
    }
   ],
   "source": [
    "#Product price should be float.\n",
    "train_data['actual_price']= train_data['actual_price'].replace( {'\\₹': '' , ',': ''}, regex=True).astype(float)"
   ]
  },
  {
   "cell_type": "code",
   "execution_count": 172,
   "id": "809c311b-d404-4ffe-80ec-c0a081760e2b",
   "metadata": {},
   "outputs": [
    {
     "data": {
      "text/plain": [
       "['2',\n",
       " '2.3',\n",
       " '2.6',\n",
       " '2.8',\n",
       " '2.9',\n",
       " '3',\n",
       " '3.0',\n",
       " '3.1',\n",
       " '3.2',\n",
       " '3.3',\n",
       " '3.4',\n",
       " '3.5',\n",
       " '3.6',\n",
       " '3.7',\n",
       " '3.8',\n",
       " '3.9',\n",
       " '4',\n",
       " '4.0',\n",
       " '4.1',\n",
       " '4.2',\n",
       " '4.3',\n",
       " '4.4',\n",
       " '4.5',\n",
       " '4.6',\n",
       " '4.7',\n",
       " '4.8',\n",
       " '5.0',\n",
       " '|']"
      ]
     },
     "execution_count": 172,
     "metadata": {},
     "output_type": "execute_result"
    }
   ],
   "source": [
    "#check all the unique values in the rating column before converting it to a float\n",
    "sorted(df['rating'].unique(), reverse=False)"
   ]
  },
  {
   "cell_type": "code",
   "execution_count": 174,
   "id": "89198b2a-a497-41f2-af56-3d0cc8967e1a",
   "metadata": {},
   "outputs": [
    {
     "name": "stderr",
     "output_type": "stream",
     "text": [
      "C:\\Users\\Mindulee Fonseka\\AppData\\Local\\Temp\\ipykernel_25356\\296647908.py:7: SettingWithCopyWarning: \n",
      "A value is trying to be set on a copy of a slice from a DataFrame.\n",
      "Try using .loc[row_indexer,col_indexer] = value instead\n",
      "\n",
      "See the caveats in the documentation: https://pandas.pydata.org/pandas-docs/stable/user_guide/indexing.html#returning-a-view-versus-a-copy\n",
      "  train_data['rating'] = train_data['rating'].replace('|', None)\n",
      "C:\\Users\\Mindulee Fonseka\\AppData\\Local\\Temp\\ipykernel_25356\\296647908.py:10: SettingWithCopyWarning: \n",
      "A value is trying to be set on a copy of a slice from a DataFrame.\n",
      "Try using .loc[row_indexer,col_indexer] = value instead\n",
      "\n",
      "See the caveats in the documentation: https://pandas.pydata.org/pandas-docs/stable/user_guide/indexing.html#returning-a-view-versus-a-copy\n",
      "  train_data['rating'] = pd.to_numeric(train_data['rating'], errors='coerce')\n",
      "C:\\Users\\Mindulee Fonseka\\AppData\\Local\\Temp\\ipykernel_25356\\296647908.py:14: SettingWithCopyWarning: \n",
      "A value is trying to be set on a copy of a slice from a DataFrame.\n",
      "Try using .loc[row_indexer,col_indexer] = value instead\n",
      "\n",
      "See the caveats in the documentation: https://pandas.pydata.org/pandas-docs/stable/user_guide/indexing.html#returning-a-view-versus-a-copy\n",
      "  train_data['rating'] = train_data['rating'].fillna(avg_rating)\n"
     ]
    }
   ],
   "source": [
    "#rating column has special character '|'  which needs to be removed or replaced\n",
    "\n",
    "#check which row has special character\n",
    "special_character = train_data[train_data['rating'] == '|']\n",
    "\n",
    "# replace the special character with NaN\n",
    "train_data['rating'] = train_data['rating'].replace('|', None)\n",
    "\n",
    "# Convert the 'rating' column to numeric (this will convert invalid entries to NaN)\n",
    "train_data['rating'] = pd.to_numeric(train_data['rating'], errors='coerce')\n",
    "\n",
    "#Fill missing values (NaN) with the average rating\n",
    "avg_rating = train_data['rating'].mean()\n",
    "train_data['rating'] = train_data['rating'].fillna(avg_rating)"
   ]
  },
  {
   "cell_type": "code",
   "execution_count": 178,
   "id": "6ce24227-0815-4473-84f8-be2666cda856",
   "metadata": {},
   "outputs": [
    {
     "name": "stderr",
     "output_type": "stream",
     "text": [
      "C:\\Users\\Mindulee Fonseka\\AppData\\Local\\Temp\\ipykernel_25356\\2322649942.py:2: SettingWithCopyWarning: \n",
      "A value is trying to be set on a copy of a slice from a DataFrame.\n",
      "Try using .loc[row_indexer,col_indexer] = value instead\n",
      "\n",
      "See the caveats in the documentation: https://pandas.pydata.org/pandas-docs/stable/user_guide/indexing.html#returning-a-view-versus-a-copy\n",
      "  train_data['rating_count'] = pd.to_numeric(train_data['rating_count'], errors='coerce')\n"
     ]
    }
   ],
   "source": [
    "#convert rating_count colmn to float\n",
    "train_data['rating_count'] = pd.to_numeric(train_data['rating_count'], errors='coerce')"
   ]
  },
  {
   "cell_type": "code",
   "execution_count": 180,
   "id": "719c1cd5-1420-4327-9525-ae406b6ca354",
   "metadata": {},
   "outputs": [
    {
     "name": "stdout",
     "output_type": "stream",
     "text": [
      "<class 'pandas.core.frame.DataFrame'>\n",
      "RangeIndex: 1465 entries, 0 to 1464\n",
      "Data columns (total 9 columns):\n",
      " #   Column         Non-Null Count  Dtype  \n",
      "---  ------         --------------  -----  \n",
      " 0   product_id     1465 non-null   object \n",
      " 1   product_name   1465 non-null   object \n",
      " 2   category       1465 non-null   object \n",
      " 3   actual_price   1465 non-null   float64\n",
      " 4   rating         1465 non-null   float64\n",
      " 5   rating_count   328 non-null    float64\n",
      " 6   about_product  1465 non-null   object \n",
      " 7   img_link       1465 non-null   object \n",
      " 8   product_link   1465 non-null   object \n",
      "dtypes: float64(3), object(6)\n",
      "memory usage: 103.1+ KB\n"
     ]
    }
   ],
   "source": [
    "train_data.info()"
   ]
  },
  {
   "cell_type": "code",
   "execution_count": null,
   "id": "6634284c-512c-4049-9916-d9bcbc92864c",
   "metadata": {},
   "outputs": [],
   "source": []
  }
 ],
 "metadata": {
  "kernelspec": {
   "display_name": "Python 3 (ipykernel)",
   "language": "python",
   "name": "python3"
  },
  "language_info": {
   "codemirror_mode": {
    "name": "ipython",
    "version": 3
   },
   "file_extension": ".py",
   "mimetype": "text/x-python",
   "name": "python",
   "nbconvert_exporter": "python",
   "pygments_lexer": "ipython3",
   "version": "3.12.4"
  }
 },
 "nbformat": 4,
 "nbformat_minor": 5
}
